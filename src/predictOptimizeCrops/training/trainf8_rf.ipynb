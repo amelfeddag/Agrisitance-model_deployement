{
  "nbformat": 4,
  "nbformat_minor": 0,
  "metadata": {
    "colab": {
      "provenance": [],
      "gpuType": "T4"
    },
    "kernelspec": {
      "name": "python3",
      "display_name": "Python 3"
    },
    "language_info": {
      "name": "python"
    },
    "accelerator": "GPU"
  },
  "cells": [
    {
      "cell_type": "code",
      "execution_count": 1,
      "metadata": {
        "id": "1OZmIhYdU0v6"
      },
      "outputs": [],
      "source": [
        "import numpy as np\n",
        "import pandas as pd\n",
        "from sklearn.model_selection import train_test_split, GridSearchCV\n",
        "from sklearn.preprocessing import StandardScaler\n",
        "from sklearn.ensemble import RandomForestClassifier\n",
        "from sklearn.metrics import accuracy_score, classification_report\n",
        "import joblib\n",
        "import logging"
      ]
    },
    {
      "cell_type": "code",
      "source": [
        "logging.basicConfig(level=logging.INFO, format='%(asctime)s - %(levelname)s - %(message)s')"
      ],
      "metadata": {
        "id": "44ldl7FiVNUC"
      },
      "execution_count": 2,
      "outputs": []
    },
    {
      "cell_type": "code",
      "source": [
        "def load_and_preprocess_data(file_path):\n",
        "    logging.info(\"Loading and preprocessing data...\")\n",
        "    df = pd.read_csv(file_path)\n",
        "    X = df[['pH', 'Temp', 'Rain', 'Humidity', 'Nitrogen', 'Phosphorus', 'Potassium', 'Oxygen']].values\n",
        "    y = df['Crop'].values\n",
        "    return X, y, df\n",
        "\n",
        "def split_data(X, y):\n",
        "    logging.info(\"Splitting data into training and testing sets...\")\n",
        "    return train_test_split(X, y, test_size=0.2, random_state=42)\n",
        "\n",
        "def scale_features(X_train, X_test):\n",
        "    logging.info(\"Scaling features...\")\n",
        "    scaler = StandardScaler()\n",
        "    X_train_scaled = scaler.fit_transform(X_train)\n",
        "    X_test_scaled = scaler.transform(X_test)\n",
        "    return X_train_scaled, X_test_scaled, scaler\n",
        "\n",
        "from sklearn.ensemble import RandomForestClassifier\n",
        "from sklearn.model_selection import RandomizedSearchCV\n",
        "\n",
        "def train_rf_model(X_train, y_train):\n",
        "    logging.info(\"Training Random Forest model...\")\n",
        "    param_dist = {\n",
        "        'n_estimators': [50, 100, 150],\n",
        "        'max_depth': [10, 20, None],\n",
        "        'min_samples_split': [2, 5],\n",
        "        'min_samples_leaf': [1, 2]\n",
        "    }\n",
        "    rf = RandomForestClassifier(random_state=42)\n",
        "    random_search = RandomizedSearchCV(rf, param_distributions=param_dist,\n",
        "                                       n_iter=10, cv=3, n_jobs=-1, verbose=1, random_state=42)\n",
        "    random_search.fit(X_train, y_train)\n",
        "    logging.info(f\"Best parameters: {random_search.best_params_}\")\n",
        "    return random_search.best_estimator_\n",
        "\n",
        "def evaluate_model(model, X_test, y_test):\n",
        "    logging.info(\"Evaluating model...\")\n",
        "    y_pred = model.predict(X_test)\n",
        "    accuracy = accuracy_score(y_test, y_pred)\n",
        "    report = classification_report(y_test, y_pred)\n",
        "    logging.info(f\"Model accuracy: {accuracy:.4f}\")\n",
        "    print(accuracy)\n",
        "    logging.info(\"Classification Report:\\n\" + report)\n",
        "    return accuracy, report\n",
        "\n",
        "def save_model(model, scaler, model_path, scaler_path):\n",
        "    logging.info(\"Saving model and scaler...\")\n",
        "    joblib.dump(model, model_path)\n",
        "    joblib.dump(scaler, scaler_path)\n",
        "    print(\"model and scaler saved successfully\")\n",
        "\n",
        "def predict_crop(model, scaler, new_data):\n",
        "    logging.info(\"Predicting crop...\")\n",
        "    new_data_scaled = scaler.transform(new_data)\n",
        "    prediction = model.predict(new_data_scaled)\n",
        "    probabilities = model.predict_proba(new_data_scaled)[0]\n",
        "    return prediction[0], probabilities"
      ],
      "metadata": {
        "id": "38kItwi8VPjg"
      },
      "execution_count": 3,
      "outputs": []
    },
    {
      "cell_type": "code",
      "source": [
        "import psutil\n",
        "\n",
        "def log_memory_usage():\n",
        "    process = psutil.Process()\n",
        "    memory_info = process.memory_info()\n",
        "    logging.info(f\"Memory usage: {memory_info.rss / (1024 * 1024):.2f} MB\")\n",
        "\n",
        "# In the main execution:\n",
        "if __name__ == \"__main__\":\n",
        "    data_file = 'all_trainable_data.csv'\n",
        "    X, y, df = load_and_preprocess_data(data_file)\n",
        "    X_train, X_test, y_train, y_test = split_data(X, y)\n",
        "    X_train_scaled, X_test_scaled, scaler = scale_features(X_train, X_test)\n",
        "\n",
        "    log_memory_usage()\n",
        "    rf_model = train_rf_model(X_train_scaled, y_train)\n",
        "    log_memory_usage()\n",
        "\n",
        "    accuracy, report = evaluate_model(rf_model, X_test_scaled, y_test)\n",
        "\n",
        "    print(\"\\n\" + \"=\"*50)\n",
        "    print(f\"Model Accuracy: {accuracy:.4f}\")\n",
        "    print(\"=\"*50 + \"\\n\")\n",
        "\n",
        "    model_file = 'crop_model.joblib'\n",
        "    scaler_file = 'crop_scaler.joblib'\n",
        "    save_model(rf_model, scaler, model_file, scaler_file)\n",
        "\n",
        "    # Example prediction\n",
        "    new_data = np.array([[6.5, 25, 100, 70, 50, 30, 20, 80]])  # Example values\n",
        "    predicted_crop, probabilities = predict_crop(rf_model, scaler, new_data)\n",
        "    logging.info(f\"Predicted crop: {predicted_crop}\")\n",
        "    logging.info(f\"Prediction probabilities: {probabilities}\")"
      ],
      "metadata": {
        "colab": {
          "base_uri": "https://localhost:8080/"
        },
        "id": "359Sh6vWVZ0Y",
        "outputId": "b4902711-a352-42c2-e259-da4d589a665a"
      },
      "execution_count": 4,
      "outputs": [
        {
          "output_type": "stream",
          "name": "stdout",
          "text": [
            "Fitting 3 folds for each of 10 candidates, totalling 30 fits\n"
          ]
        },
        {
          "output_type": "stream",
          "name": "stderr",
          "text": [
            "/usr/local/lib/python3.10/dist-packages/joblib/externals/loky/process_executor.py:752: UserWarning: A worker stopped while some jobs were given to the executor. This can be caused by a too short worker timeout or by a memory leak.\n",
            "  warnings.warn(\n"
          ]
        },
        {
          "output_type": "stream",
          "name": "stdout",
          "text": [
            "0.43077272727272725\n",
            "\n",
            "==================================================\n",
            "Model Accuracy: 0.4308\n",
            "==================================================\n",
            "\n",
            "model and scaler saved successfully\n"
          ]
        }
      ]
    },
    {
      "cell_type": "code",
      "source": [],
      "metadata": {
        "id": "_D8LmwM3V8l8"
      },
      "execution_count": null,
      "outputs": []
    }
  ]
}